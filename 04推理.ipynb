{
 "cells": [
  {
   "cell_type": "code",
   "execution_count": 1,
   "metadata": {},
   "outputs": [
    {
     "data": {
      "text/plain": [
       "((687636, 2600), (76405, 2600))"
      ]
     },
     "execution_count": 1,
     "metadata": {},
     "output_type": "execute_result"
    }
   ],
   "source": [
    "import os\n",
    "os.environ[\"CUDA_VISIBLE_DEVICES\"]=\"0\"\n",
    "\n",
    "import numpy as np\n",
    "traval_tra_features = np.load('traval_tra_features.npy').astype(np.float32)\n",
    "traval_tra_targets = np.load('traval_tra_targets.npy').astype(np.int64)[:,0]\n",
    "traval_val_features = np.load('traval_val_features.npy').astype(np.float32)\n",
    "traval_val_targets = np.load('traval_val_targets.npy').astype(np.int64)[:,0]\n",
    "traval_tra_features.shape, traval_val_features.shape"
   ]
  },
  {
   "cell_type": "code",
   "execution_count": 2,
   "metadata": {},
   "outputs": [
    {
     "name": "stderr",
     "output_type": "stream",
     "text": [
      "/home/amax/miniconda3/lib/python3.7/site-packages/sklearn/utils/deprecation.py:144: FutureWarning: The sklearn.metrics.scorer module is  deprecated in version 0.22 and will be removed in version 0.24. The corresponding classes / functions should instead be imported from sklearn.metrics. Anything that cannot be imported from sklearn.metrics is now part of the private API.\n",
      "  warnings.warn(message, FutureWarning)\n"
     ]
    }
   ],
   "source": [
    "import torch\n",
    "from torch import optim\n",
    "from torch import nn\n",
    "import torch.nn.functional as F\n",
    "from skorch import NeuralNetClassifier\n",
    "import sklearn\n",
    "from skorch.callbacks import EpochScoring, LRScheduler, Checkpoint\n",
    "from torch.optim import Adam, SGD\n",
    "import adamod"
   ]
  },
  {
   "cell_type": "code",
   "execution_count": 3,
   "metadata": {},
   "outputs": [],
   "source": [
    "from skorch.dataset import Dataset\n",
    "from skorch.helper import predefined_split\n",
    "valid_ds = Dataset(traval_val_features, traval_val_targets)"
   ]
  },
  {
   "cell_type": "code",
   "execution_count": 4,
   "metadata": {},
   "outputs": [],
   "source": [
    "class DownSample2x(nn.Sequential):\n",
    "    def __init__(self, _in, _out):\n",
    "        super().__init__(\n",
    "            nn.Conv1d(_in, _out, kernel_size=2, stride=2),\n",
    "            nn.ReLU(inplace=True),\n",
    "        )\n",
    "\n",
    "class SELayer(nn.Module):\n",
    "    def __init__(self, _in, _hidden=64):\n",
    "        super(SELayer, self).__init__()\n",
    "        self.avg_pool = nn.AdaptiveAvgPool1d(1)\n",
    "        self.fc = nn.Sequential(\n",
    "            nn.Linear(_in, _hidden),\n",
    "            nn.PReLU(),\n",
    "            nn.Linear(_hidden, _in),\n",
    "            nn.Sigmoid()\n",
    "        )\n",
    "\n",
    "    def forward(self, x):\n",
    "        b, c, _ = x.size()\n",
    "        y = self.avg_pool(x).view(b, c)\n",
    "        y = self.fc(y).view(b, c, 1)\n",
    "        return x * y\n",
    "    \n",
    "class ResConv1d(nn.Module):\n",
    "    def __init__(self, _in, _out):\n",
    "        super(ResConv1d, self).__init__()\n",
    "        \n",
    "        self.cal = nn.Sequential(\n",
    "            nn.Conv1d(_in, _out, kernel_size=3, padding=1, stride=1),\n",
    "            nn.BatchNorm1d(_out),\n",
    "            nn.ReLU(),\n",
    "            nn.Conv1d(_out, _out, kernel_size=3, padding=1, stride=1),\n",
    "            nn.BatchNorm1d(_out),\n",
    "        )\n",
    "        self.se = SELayer(_out, _out)\n",
    "        self.conv = nn.Conv1d(_in, _out, kernel_size=1, padding=0, stride=1)\n",
    "        self.relu = nn.ReLU()\n",
    "        self.bn = nn.BatchNorm1d(_out)\n",
    "        \n",
    "    def forward(self, x):\n",
    "        res = self.cal(x)\n",
    "        res = self.se(res)\n",
    "        \n",
    "        x = self.bn(self.conv(x))\n",
    "        \n",
    "        return self.relu(res + x)\n",
    "        \n",
    "class MyModule(nn.Module):\n",
    "    def __init__(self, nonlin=F.relu):\n",
    "        super(MyModule, self).__init__()\n",
    "        \n",
    "        self.d1 = DownSample2x(1, 64)\n",
    "        self.c1 = ResConv1d(64, 64)\n",
    "        \n",
    "        self.d2 = DownSample2x(64, 64)\n",
    "        self.c2 = ResConv1d(64, 64)\n",
    "        \n",
    "        self.d3 = DownSample2x(64, 64)\n",
    "        self.c3 = ResConv1d(64, 64)\n",
    "        \n",
    "        self.d4 = DownSample2x(64, 64)\n",
    "        self.c4 = ResConv1d(64, 64)\n",
    "        \n",
    "        self.d5 = DownSample2x(64, 64)\n",
    "        self.c5 = ResConv1d(64, 64)\n",
    "        \n",
    "        self.d6 = DownSample2x(64, 64)\n",
    "        self.c6 = ResConv1d(64, 64)\n",
    "        \n",
    "        self.dropout = nn.Dropout(0.5)\n",
    "        self.cls = nn.Linear(64 * 40, 3)\n",
    "        \n",
    "    def preprocess(self, x, p=2, eps=1e-8):\n",
    "        x = x / (x.norm(p=p, dim=1, keepdim=True)+eps)\n",
    "        x = x.unsqueeze(1)\n",
    "        return x\n",
    "        \n",
    "    def forward(self, x):\n",
    "        bs = x.size(0)\n",
    "        x = self.preprocess(x)\n",
    "        \n",
    "        x = self.d1(x)\n",
    "        x = self.c1(x)\n",
    "        \n",
    "        x = self.d2(x)\n",
    "        x = self.c2(x)\n",
    "        \n",
    "        x = self.d3(x)\n",
    "        x = self.c3(x)\n",
    "\n",
    "        x = self.d4(x)\n",
    "        x = self.c4(x)\n",
    "        \n",
    "        x = self.d5(x)\n",
    "        x = self.c5(x)\n",
    "        \n",
    "        x = self.d6(x)\n",
    "        x = self.c6(x)\n",
    "        \n",
    "        x = x.reshape(bs, -1)\n",
    "        x = self.dropout(x)\n",
    "\n",
    "        return F.softmax(self.cls(x))\n",
    "\n",
    "    \n",
    "def microf1(net, ds, y=None):\n",
    "    y_true = [y for _, y in ds]\n",
    "    y_pred = net.predict(ds)\n",
    "    return sklearn.metrics.f1_score(y_true, y_pred,average='micro')\n",
    "def macrof1(net, ds, y=None):\n",
    "    y_true = [y for _, y in ds]\n",
    "    y_pred = net.predict(ds)\n",
    "    return sklearn.metrics.f1_score(y_true, y_pred,average='macro')\n",
    "\n",
    "class F1Loss(nn.Module):\n",
    "    def __init__(self):\n",
    "        super(F1Loss, self).__init__()\n",
    "\n",
    "    def forward(self, input, target, eps=1e-10):\n",
    "        loss = 0\n",
    "        for idx, i in enumerate(torch.eye(3).cuda()):\n",
    "            t = i.view(3,1)\n",
    "            y_pred_ = input.matmul(t).squeeze()\n",
    "            y_true_ = target==idx\n",
    "            loss += 0.5 * (y_true_ * y_pred_).sum() / (y_true_ + y_pred_ + eps).sum()\n",
    "        return -torch.log(loss+eps)"
   ]
  },
  {
   "cell_type": "code",
   "execution_count": 6,
   "metadata": {},
   "outputs": [],
   "source": [
    "net = NeuralNetClassifier(\n",
    "    MyModule,\n",
    "    max_epochs=10,\n",
    "    lr=0.0001,\n",
    "    batch_size=128,\n",
    "    optimizer=Adam,\n",
    "    iterator_train__shuffle=True,\n",
    "    criterion=F1Loss,\n",
    "    train_split=predefined_split(valid_ds),\n",
    "    callbacks=[EpochScoring(macrof1, use_caching=True, lower_is_better=False),\n",
    "               EpochScoring(microf1, use_caching=True, lower_is_better=False)],\n",
    "    device='cuda'\n",
    ")"
   ]
  },
  {
   "cell_type": "code",
   "execution_count": 31,
   "metadata": {
    "scrolled": true
   },
   "outputs": [
    {
     "name": "stdout",
     "output_type": "stream",
     "text": [
      "Re-initializing module.\n",
      "Re-initializing optimizer.\n",
      "03_model1/params.pt\n"
     ]
    },
    {
     "name": "stderr",
     "output_type": "stream",
     "text": [
      "/home/amax/miniconda3/lib/python3.7/site-packages/ipykernel_launcher.py:104: UserWarning: Implicit dimension choice for softmax has been deprecated. Change the call to include dim=X as an argument.\n"
     ]
    },
    {
     "name": "stdout",
     "output_type": "stream",
     "text": [
      "(76405, 3)\n",
      "Re-initializing module.\n",
      "Re-initializing optimizer.\n",
      "03_model2/params.pt\n",
      "(76405, 3)\n",
      "Re-initializing module.\n",
      "Re-initializing optimizer.\n",
      "03_model3/params.pt\n",
      "(76405, 3)\n",
      "Re-initializing module.\n",
      "Re-initializing optimizer.\n",
      "03_model4/params.pt\n",
      "(76405, 3)\n",
      "Re-initializing module.\n",
      "Re-initializing optimizer.\n",
      "03_model11/params.pt\n",
      "(76405, 3)\n",
      "Re-initializing module.\n",
      "Re-initializing optimizer.\n",
      "03_model12/params.pt\n",
      "(76405, 3)\n",
      "Re-initializing module.\n",
      "Re-initializing optimizer.\n",
      "03_model13/params.pt\n",
      "(76405, 3)\n",
      "Re-initializing module.\n",
      "Re-initializing optimizer.\n",
      "03_model14/params.pt\n",
      "(76405, 3)\n",
      "Re-initializing module.\n",
      "Re-initializing optimizer.\n",
      "03_model21/params.pt\n",
      "(76405, 3)\n",
      "Re-initializing module.\n",
      "Re-initializing optimizer.\n",
      "03_model22/params.pt\n",
      "(76405, 3)\n",
      "Re-initializing module.\n",
      "Re-initializing optimizer.\n",
      "03_model23/params.pt\n",
      "(76405, 3)\n",
      "Re-initializing module.\n",
      "Re-initializing optimizer.\n",
      "03_model24/params.pt\n",
      "(76405, 3)\n",
      "Re-initializing module.\n",
      "Re-initializing optimizer.\n",
      "03_model31/params.pt\n",
      "(76405, 3)\n",
      "Re-initializing module.\n",
      "Re-initializing optimizer.\n",
      "03_model32/params.pt\n",
      "(76405, 3)\n",
      "Re-initializing module.\n",
      "Re-initializing optimizer.\n",
      "03_model33/params.pt\n",
      "(76405, 3)\n",
      "Re-initializing module.\n",
      "Re-initializing optimizer.\n",
      "03_model34/params.pt\n",
      "(76405, 3)\n"
     ]
    },
    {
     "data": {
      "text/plain": [
       "(76405, 16, 3)"
      ]
     },
     "execution_count": 31,
     "metadata": {},
     "output_type": "execute_result"
    }
   ],
   "source": [
    "import numpy as np\n",
    "preds = []\n",
    "files = ['03_model'+str(i)+'/params.pt' for i in [1,2,3,4,11,12,13,14,21,22,23,24,31,32,33,34]]\n",
    "for file in files:\n",
    "    net.initialize() \n",
    "    net.load_params(f_params=file)\n",
    "    print(file)\n",
    "    ans = net.predict_proba(traval_val_features)\n",
    "    preds.append(ans)\n",
    "    print(ans.shape)\n",
    "preds_np = np.concatenate([i[:,None,:] for i in preds], axis=1)\n",
    "preds_np.shape"
   ]
  },
  {
   "cell_type": "code",
   "execution_count": 33,
   "metadata": {},
   "outputs": [
    {
     "name": "stdout",
     "output_type": "stream",
     "text": [
      "0.9837454286579623\n",
      "0.9837277031205023\n",
      "0.9841201980752211\n",
      "0.9835818670398346\n",
      "0.9836657697537247\n",
      "0.9836394989584393\n",
      "0.9837269174613841\n",
      "0.9838323049060932\n",
      "0.9832873964942296\n",
      "0.9840603134691754\n",
      "0.9833274136502211\n",
      "0.9839531619190827\n",
      "0.9834960956279978\n",
      "0.9838624442945975\n",
      "0.982914339936784\n",
      "0.983713373774072\n",
      "mean:\n",
      "0.9854693211835676\n",
      "weight:\n",
      "0.9852281087088728\n"
     ]
    }
   ],
   "source": [
    "import sklearn\n",
    "for i in range(len(files)):\n",
    "    print(sklearn.metrics.f1_score(traval_val_targets, np.argmax(preds_np[:,i,:],axis=-1),average='macro'))\n",
    "    \n",
    "print('mean:')\n",
    "preds_w = np.zeros_like(preds_np[:,0,:])\n",
    "w = [1]*16\n",
    "for idx in range(len(w)):\n",
    "    preds_w+=preds_np[:,idx,:]*w[idx]\n",
    "print(sklearn.metrics.f1_score(traval_val_targets, np.argmax(preds_w,axis=-1),average='macro'))\n",
    "\n",
    "print('weight:')\n",
    "preds_w = np.zeros_like(preds_np[:,0,:])\n",
    "w = [1,1,2,1,1,1,1,1,1,2,1,1,1,1,1,1]\n",
    "for idx in range(len(w)):\n",
    "    preds_w+=preds_np[:,idx,:]*w[idx]\n",
    "print(sklearn.metrics.f1_score(traval_val_targets, np.argmax(preds_w,axis=-1),average='macro'))"
   ]
  },
  {
   "cell_type": "code",
   "execution_count": null,
   "metadata": {},
   "outputs": [],
   "source": [
    "\"\"\"\n",
    "without f1\n",
    "0.9837454286579623\n",
    "0.9837277031205023\n",
    "0.9841201980752211\n",
    "0.9835818670398346\n",
    "0.9836657697537247\n",
    "0.9836394989584393\n",
    "0.9837269174613841\n",
    "0.9838323049060932\n",
    "0.9832873964942296\n",
    "0.9840603134691754\n",
    "0.9833274136502211\n",
    "0.9839531619190827\n",
    "0.9834960956279978\n",
    "0.9838624442945975\n",
    "0.982914339936784\n",
    "0.983713373774072\n",
    "mean:\n",
    "0.9854693211835676\n",
    "weight:\n",
    "0.9852281087088728\n",
    "\n",
    "with f1:\n",
    "0.9847379927372794\n",
    "0.9850451497498632\n",
    "0.9850169348505221\n",
    "0.9850028755295784\n",
    "0.9845799964396283\n",
    "0.9849547437168384\n",
    "0.9850696446139503\n",
    "0.9848078173306157\n",
    "0.9845703118789038\n",
    "0.9851591709256707\n",
    "0.9848471043024284\n",
    "0.9852402076448908\n",
    "0.9845585545753571\n",
    "0.9848449739433897\n",
    "0.9849713606291938\n",
    "0.9848816478458112\n",
    "mean:\n",
    "0.9856239374676373\n",
    "weight:\n",
    "0.9854902328933562\n",
    "\"\"\""
   ]
  },
  {
   "cell_type": "code",
   "execution_count": null,
   "metadata": {},
   "outputs": [],
   "source": []
  },
  {
   "cell_type": "code",
   "execution_count": 29,
   "metadata": {},
   "outputs": [],
   "source": [
    "test_features = np.load('test_features.npy').astype(np.float32)\n",
    "test_rowids = np.load('test_rowids.npy')"
   ]
  },
  {
   "cell_type": "code",
   "execution_count": 34,
   "metadata": {
    "scrolled": true
   },
   "outputs": [
    {
     "name": "stdout",
     "output_type": "stream",
     "text": [
      "Re-initializing module.\n",
      "Re-initializing optimizer.\n",
      "03_model1/f1params.pt\n"
     ]
    },
    {
     "name": "stderr",
     "output_type": "stream",
     "text": [
      "/home/amax/miniconda3/lib/python3.7/site-packages/ipykernel_launcher.py:104: UserWarning: Implicit dimension choice for softmax has been deprecated. Change the call to include dim=X as an argument.\n"
     ]
    },
    {
     "name": "stdout",
     "output_type": "stream",
     "text": [
      "(190624, 3)\n",
      "Re-initializing module.\n",
      "Re-initializing optimizer.\n",
      "03_model2/f1params.pt\n",
      "(190624, 3)\n",
      "Re-initializing module.\n",
      "Re-initializing optimizer.\n",
      "03_model3/f1params.pt\n",
      "(190624, 3)\n",
      "Re-initializing module.\n",
      "Re-initializing optimizer.\n",
      "03_model4/f1params.pt\n",
      "(190624, 3)\n",
      "Re-initializing module.\n",
      "Re-initializing optimizer.\n",
      "03_model11/f1params.pt\n",
      "(190624, 3)\n",
      "Re-initializing module.\n",
      "Re-initializing optimizer.\n",
      "03_model12/f1params.pt\n",
      "(190624, 3)\n",
      "Re-initializing module.\n",
      "Re-initializing optimizer.\n",
      "03_model13/f1params.pt\n",
      "(190624, 3)\n",
      "Re-initializing module.\n",
      "Re-initializing optimizer.\n",
      "03_model14/f1params.pt\n",
      "(190624, 3)\n",
      "Re-initializing module.\n",
      "Re-initializing optimizer.\n",
      "03_model21/f1params.pt\n",
      "(190624, 3)\n",
      "Re-initializing module.\n",
      "Re-initializing optimizer.\n",
      "03_model22/f1params.pt\n",
      "(190624, 3)\n",
      "Re-initializing module.\n",
      "Re-initializing optimizer.\n",
      "03_model23/f1params.pt\n",
      "(190624, 3)\n",
      "Re-initializing module.\n",
      "Re-initializing optimizer.\n",
      "03_model24/f1params.pt\n",
      "(190624, 3)\n",
      "Re-initializing module.\n",
      "Re-initializing optimizer.\n",
      "03_model31/f1params.pt\n",
      "(190624, 3)\n",
      "Re-initializing module.\n",
      "Re-initializing optimizer.\n",
      "03_model32/f1params.pt\n",
      "(190624, 3)\n",
      "Re-initializing module.\n",
      "Re-initializing optimizer.\n",
      "03_model33/f1params.pt\n",
      "(190624, 3)\n",
      "Re-initializing module.\n",
      "Re-initializing optimizer.\n",
      "03_model34/f1params.pt\n",
      "(190624, 3)\n"
     ]
    },
    {
     "data": {
      "text/plain": [
       "(190624, 16, 3)"
      ]
     },
     "execution_count": 34,
     "metadata": {},
     "output_type": "execute_result"
    }
   ],
   "source": [
    "import numpy as np\n",
    "preds = []\n",
    "files = ['03_model'+str(i)+'/f1params.pt' for i in [1,2,3,4,11,12,13,14,21,22,23,24,31,32,33,34]]\n",
    "for file in files:\n",
    "    net.initialize() \n",
    "    net.load_params(f_params=file)\n",
    "    print(file)\n",
    "    ans = net.predict_proba(test_features)\n",
    "    preds.append(ans)\n",
    "    print(ans.shape)\n",
    "preds_np = np.concatenate([i[:,None,:] for i in preds], axis=1)\n",
    "preds_np.shape"
   ]
  },
  {
   "cell_type": "code",
   "execution_count": 35,
   "metadata": {},
   "outputs": [],
   "source": [
    "preds_w = np.zeros_like(preds_np[:,0,:])\n",
    "w = [1]*16\n",
    "for idx in range(len(w)):\n",
    "    preds_w+=preds_np[:,idx,:]*w[idx]\n",
    "ans=np.argmax(preds_w,axis=-1)"
   ]
  },
  {
   "cell_type": "code",
   "execution_count": 37,
   "metadata": {},
   "outputs": [],
   "source": [
    "import pandas as pd\n",
    "result_df = pd.DataFrame({\n",
    "    'id': test_rowids,\n",
    "    'label': ans,\n",
    "})\n",
    "result_df.id = result_df.id.map(lambda x: x.strip())\n",
    "id2name = {\n",
    "    0:'star',\n",
    "    1:'galaxy',\n",
    "    2:'qso'\n",
    "}\n",
    "result_df.label = result_df.label.map(lambda x: id2name[x])\n",
    "result_df.to_csv('r4.csv',index=None)"
   ]
  },
  {
   "cell_type": "code",
   "execution_count": 38,
   "metadata": {},
   "outputs": [
    {
     "data": {
      "text/plain": [
       "(160058, 23330, 7236)"
      ]
     },
     "execution_count": 38,
     "metadata": {},
     "output_type": "execute_result"
    }
   ],
   "source": [
    "sum(ans==0),sum(ans==1),sum(ans==2)"
   ]
  },
  {
   "cell_type": "code",
   "execution_count": null,
   "metadata": {},
   "outputs": [],
   "source": []
  }
 ],
 "metadata": {
  "kernelspec": {
   "display_name": "Python 3",
   "language": "python",
   "name": "python3"
  },
  "language_info": {
   "codemirror_mode": {
    "name": "ipython",
    "version": 3
   },
   "file_extension": ".py",
   "mimetype": "text/x-python",
   "name": "python",
   "nbconvert_exporter": "python",
   "pygments_lexer": "ipython3",
   "version": "3.7.6"
  }
 },
 "nbformat": 4,
 "nbformat_minor": 4
}
