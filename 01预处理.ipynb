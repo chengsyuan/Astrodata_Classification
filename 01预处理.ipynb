{
 "cells": [
  {
   "cell_type": "markdown",
   "metadata": {},
   "source": [
    "## Load and Convert Train\n",
    "### Chengxuan Ying"
   ]
  },
  {
   "cell_type": "code",
   "execution_count": 1,
   "metadata": {},
   "outputs": [
    {
     "name": "stderr",
     "output_type": "stream",
     "text": [
      "573475it [12:07, 787.78it/s]\n"
     ]
    }
   ],
   "source": [
    "from tqdm import tqdm\n",
    "\n",
    "name2id = {\n",
    "    'star': 0,\n",
    "    'galaxy': 1,\n",
    "    'qso': 2,\n",
    "}\n",
    "filename = 'trainval/update_new_columns_trains_sets.csv'\n",
    "\n",
    "features = []\n",
    "targets = []\n",
    "rowids = []\n",
    "\n",
    "with open(filename) as f:\n",
    "    for idx, line in tqdm(enumerate(f)):\n",
    "        if 'FE' in line:\n",
    "            continue\n",
    "        \n",
    "        contents = line.split(',')\n",
    "        \n",
    "        feature = [float(x) for x in contents[:-2]]\n",
    "        target = name2id[contents[-2]]\n",
    "        rowid = contents[-1]\n",
    "        \n",
    "        features.append(feature)\n",
    "        targets.append(target)\n",
    "        rowids.append(rowid)"
   ]
  },
  {
   "cell_type": "code",
   "execution_count": 2,
   "metadata": {},
   "outputs": [
    {
     "name": "stdout",
     "output_type": "stream",
     "text": [
      "(573417, 2600)\n",
      "(573417,)\n",
      "(573417,)\n"
     ]
    }
   ],
   "source": [
    "import numpy as np\n",
    "features_np = np.array(features, dtype=np.float32)\n",
    "print(features_np.shape)\n",
    "np.save('train_features.npy', features_np)\n",
    "targets_np = np.array(targets, dtype=np.int8)\n",
    "print(targets_np.shape)\n",
    "np.save('train_targets.npy', targets_np)"
   ]
  },
  {
   "cell_type": "markdown",
   "metadata": {},
   "source": [
    "## Load and Convert Val"
   ]
  },
  {
   "cell_type": "code",
   "execution_count": 4,
   "metadata": {},
   "outputs": [
    {
     "name": "stderr",
     "output_type": "stream",
     "text": [
      "190625it [03:54, 811.64it/s]\n"
     ]
    }
   ],
   "source": [
    "from tqdm import tqdm\n",
    "filename = 'trainval/val_sets_v1.csv'\n",
    "\n",
    "features = []\n",
    "targets = []\n",
    "rowids = []\n",
    "\n",
    "with open(filename) as f:\n",
    "    for idx, line in tqdm(enumerate(f)):\n",
    "        if 'FE' in line:\n",
    "            continue\n",
    "\n",
    "        contents = line.split(',')\n",
    "        \n",
    "        feature = [float(x) for x in contents[:-1]]\n",
    "        rowid = contents[-1]\n",
    "        \n",
    "        features.append(feature)\n",
    "        rowids.append(rowid)"
   ]
  },
  {
   "cell_type": "code",
   "execution_count": 5,
   "metadata": {},
   "outputs": [
    {
     "name": "stdout",
     "output_type": "stream",
     "text": [
      "(190624, 2600)\n"
     ]
    }
   ],
   "source": [
    "import numpy as np\n",
    "features_np = np.array(features, dtype=np.float32)\n",
    "print(features_np.shape)\n",
    "np.save('val_features.npy', features_np)"
   ]
  },
  {
   "cell_type": "code",
   "execution_count": 7,
   "metadata": {},
   "outputs": [
    {
     "name": "stderr",
     "output_type": "stream",
     "text": [
      "190625it [00:00, 768272.80it/s]"
     ]
    },
    {
     "name": "stdout",
     "output_type": "stream",
     "text": [
      "(190624,)\n"
     ]
    },
    {
     "name": "stderr",
     "output_type": "stream",
     "text": [
      "\n"
     ]
    }
   ],
   "source": [
    "targets = []\n",
    "filename = 'trainval/val_labels_v1.csv'\n",
    "name2id = {\n",
    "    'star': 0,\n",
    "    'galaxy': 1,\n",
    "    'qso': 2,\n",
    "}\n",
    "with open(filename) as f:\n",
    "    for idx, line in tqdm(enumerate(f)):\n",
    "        if 'id' in line:\n",
    "            continue\n",
    "        contents = line.strip().split(',')\n",
    "        target = name2id[contents[-1]]\n",
    "        targets.append(target)\n",
    "targets_np = np.array(targets, dtype=np.int8)\n",
    "print(targets_np.shape)\n",
    "np.save('val_targets.npy', targets_np)"
   ]
  },
  {
   "cell_type": "markdown",
   "metadata": {},
   "source": [
    "## Load and Convert Test"
   ]
  },
  {
   "cell_type": "code",
   "execution_count": 8,
   "metadata": {},
   "outputs": [
    {
     "name": "stderr",
     "output_type": "stream",
     "text": [
      "20001it [00:22, 872.81it/s]\n",
      "20001it [00:26, 764.43it/s]\n",
      "20001it [00:25, 772.02it/s]\n",
      "20001it [00:23, 839.11it/s]\n",
      "20001it [00:25, 778.96it/s]\n",
      "20001it [00:24, 822.39it/s]\n",
      "20001it [00:24, 800.49it/s]\n",
      "20001it [00:31, 636.93it/s]\n",
      "20001it [00:23, 839.30it/s]\n",
      "10625it [00:12, 851.83it/s]\n"
     ]
    }
   ],
   "source": [
    "from tqdm import tqdm\n",
    "filenames = ['test/test_sets_'+str(i)+'.csv' for i in range(10)]\n",
    "\n",
    "features = []\n",
    "rowids = []\n",
    "\n",
    "for filename in filenames:\n",
    "    with open(filename) as f:\n",
    "        for idx, line in tqdm(enumerate(f)):\n",
    "            if 'FE' in line:\n",
    "                continue\n",
    "\n",
    "            contents = line.split(',')\n",
    "\n",
    "            feature = [float(x) for x in contents[:-1]]\n",
    "            rowid = contents[-1]\n",
    "\n",
    "            features.append(feature)\n",
    "            rowids.append(rowid)"
   ]
  },
  {
   "cell_type": "code",
   "execution_count": 9,
   "metadata": {},
   "outputs": [
    {
     "name": "stdout",
     "output_type": "stream",
     "text": [
      "(190624, 2600)\n",
      "(190624,)\n"
     ]
    }
   ],
   "source": [
    "import numpy as np\n",
    "features_np = np.array(features, dtype=np.float32)\n",
    "print(features_np.shape)\n",
    "np.save('test_features.npy', features_np)\n",
    "rowids_np = np.array(rowids)\n",
    "print(rowids_np.shape)\n",
    "np.save('test_rowids.npy', rowids_np)"
   ]
  },
  {
   "cell_type": "markdown",
   "metadata": {},
   "source": [
    "## Trainval Split"
   ]
  },
  {
   "cell_type": "code",
   "execution_count": 10,
   "metadata": {},
   "outputs": [
    {
     "data": {
      "text/plain": [
       "((573417, 2600), (190624, 2600))"
      ]
     },
     "execution_count": 10,
     "metadata": {},
     "output_type": "execute_result"
    }
   ],
   "source": [
    "import numpy as np\n",
    "tra_features = np.load('train_features.npy').astype(np.float32)\n",
    "tra_targets = np.load('train_targets.npy').astype(np.int64)\n",
    "val_features = np.load('val_features.npy').astype(np.float32)\n",
    "val_targets = np.load('val_targets.npy').astype(np.int64)\n",
    "tra_features.shape, val_features.shape"
   ]
  },
  {
   "cell_type": "code",
   "execution_count": 11,
   "metadata": {},
   "outputs": [
    {
     "data": {
      "text/plain": [
       "(764041, 2600)"
      ]
     },
     "execution_count": 11,
     "metadata": {},
     "output_type": "execute_result"
    }
   ],
   "source": [
    "all_features = np.vstack([tra_features, val_features])\n",
    "all_features.shape"
   ]
  },
  {
   "cell_type": "code",
   "execution_count": 14,
   "metadata": {},
   "outputs": [
    {
     "data": {
      "text/plain": [
       "(764041, 1)"
      ]
     },
     "execution_count": 14,
     "metadata": {},
     "output_type": "execute_result"
    }
   ],
   "source": [
    "all_targets = np.vstack([tra_targets[:,None], val_targets[:,None]])\n",
    "all_targets.shape"
   ]
  },
  {
   "cell_type": "code",
   "execution_count": 16,
   "metadata": {},
   "outputs": [],
   "source": [
    "from sklearn.model_selection import train_test_split\n",
    "traval_tra_features, traval_val_features, traval_tra_targets, traval_val_targets = \\\n",
    "    train_test_split(all_features, all_targets, test_size=0.1, random_state=42)"
   ]
  },
  {
   "cell_type": "code",
   "execution_count": 17,
   "metadata": {},
   "outputs": [
    {
     "data": {
      "text/plain": [
       "((687636, 2600), (76405, 2600), (687636, 1), (76405, 1))"
      ]
     },
     "execution_count": 17,
     "metadata": {},
     "output_type": "execute_result"
    }
   ],
   "source": [
    "traval_tra_features.shape, traval_val_features.shape, \\\n",
    "traval_tra_targets.shape, traval_val_targets.shape"
   ]
  },
  {
   "cell_type": "code",
   "execution_count": 18,
   "metadata": {},
   "outputs": [],
   "source": [
    "np.save('traval_tra_features.npy', traval_tra_features)\n",
    "np.save('traval_val_features.npy', traval_val_features)\n",
    "np.save('traval_tra_targets.npy', traval_tra_targets)\n",
    "np.save('traval_val_targets.npy', traval_val_targets)"
   ]
  },
  {
   "cell_type": "code",
   "execution_count": null,
   "metadata": {},
   "outputs": [],
   "source": []
  }
 ],
 "metadata": {
  "kernelspec": {
   "display_name": "Python 3",
   "language": "python",
   "name": "python3"
  },
  "language_info": {
   "codemirror_mode": {
    "name": "ipython",
    "version": 3
   },
   "file_extension": ".py",
   "mimetype": "text/x-python",
   "name": "python",
   "nbconvert_exporter": "python",
   "pygments_lexer": "ipython3",
   "version": "3.7.6"
  }
 },
 "nbformat": 4,
 "nbformat_minor": 4
}
